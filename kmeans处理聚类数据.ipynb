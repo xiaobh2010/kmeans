{
 "cells": [
  {
   "cell_type": "code",
   "execution_count": 6,
   "metadata": {},
   "outputs": [],
   "source": [
    "import numpy as np\n",
    "import matplotlib.pyplot as plt\n",
    "import matplotlib as mpl\n",
    "import sklearn.datasets as ds\n",
    "import matplotlib.colors\n",
    "from sklearn.cluster import KMeans #引入kmeans"
   ]
  },
  {
   "cell_type": "code",
   "execution_count": 7,
   "metadata": {},
   "outputs": [],
   "source": [
    "#设置属性防止中文乱码\n",
    "mpl.rcParams['font.sans-serif']=[u'SimHei']\n",
    "mpl.rcParams['axes.unicode_minus']=False"
   ]
  },
  {
   "cell_type": "code",
   "execution_count": 13,
   "metadata": {},
   "outputs": [
    {
     "data": {
      "text/plain": [
       "(360, 2)"
      ]
     },
     "execution_count": 13,
     "metadata": {},
     "output_type": "execute_result"
    }
   ],
   "source": [
    "#产生模拟数据\n",
    "N=1500\n",
    "centers=4\n",
    "#产生等方差的数据集（中心点随机）\n",
    "data,y=ds.make_blobs(N,n_features=2,centers=centers,random_state=14)\n",
    "#产生给定中心点给定对应方差的数据集\n",
    "data2,y2=ds.make_blobs(N,n_features=2,centers=[(-10,-8), (-5,8), (5,2), (8,-7)],cluster_std=[1.5,2.5,1.9,1],random_state=14)\n",
    "#产生方差相同，当时样本数量不同的数据集中\n",
    "data3 = np.vstack((data[y == 0][:200], data[y == 1][:100], data[y == 2][:10], data[y == 3][:50]))\n",
    "y3 = np.array([0] * 200 + [1] * 100 + [2] * 10 + [3] * 50)\n",
    "data3.shape"
   ]
  },
  {
   "cell_type": "code",
   "execution_count": 15,
   "metadata": {},
   "outputs": [
    {
     "name": "stdout",
     "output_type": "stream",
     "text": [
      "所有样本距离聚簇中心点的总距离和\n",
      " 3080.115349898243\n",
      "距离聚簇中心点的平均距离\n",
      " 2.0534102332654953\n",
      "聚簇中心点\n",
      " [[ 0.29669565 -3.54231139]\n",
      " [ 0.16320879  5.36270861]\n",
      " [-3.78071415  9.16749757]\n",
      " [ 7.40972957 -9.82432669]]\n"
     ]
    }
   ],
   "source": [
    "#数据前期处理和前面模型是一样的\n",
    "#模型的构建\n",
    "km=KMeans(n_clusters=centers,init='random',n_init=10)\n",
    "km.fit(data)\n",
    "y_hat=km.predict(data)\n",
    "print('所有样本距离聚簇中心点的总距离和\\n',km.inertia_)\n",
    "print('距离聚簇中心点的平均距离\\n',(km.inertia_/N))\n",
    "cluster_centers=km.cluster_centers_\n",
    "print('聚簇中心点\\n',cluster_centers)"
   ]
  },
  {
   "cell_type": "code",
   "execution_count": null,
   "metadata": {},
   "outputs": [],
   "source": []
  },
  {
   "cell_type": "code",
   "execution_count": null,
   "metadata": {},
   "outputs": [],
   "source": []
  },
  {
   "cell_type": "code",
   "execution_count": null,
   "metadata": {},
   "outputs": [],
   "source": []
  },
  {
   "cell_type": "code",
   "execution_count": null,
   "metadata": {},
   "outputs": [],
   "source": []
  },
  {
   "cell_type": "code",
   "execution_count": null,
   "metadata": {},
   "outputs": [],
   "source": []
  },
  {
   "cell_type": "code",
   "execution_count": null,
   "metadata": {},
   "outputs": [],
   "source": []
  }
 ],
 "metadata": {
  "kernelspec": {
   "display_name": "Python 3",
   "language": "python",
   "name": "python3"
  },
  "language_info": {
   "codemirror_mode": {
    "name": "ipython",
    "version": 3
   },
   "file_extension": ".py",
   "mimetype": "text/x-python",
   "name": "python",
   "nbconvert_exporter": "python",
   "pygments_lexer": "ipython3",
   "version": "3.7.3"
  }
 },
 "nbformat": 4,
 "nbformat_minor": 2
}
